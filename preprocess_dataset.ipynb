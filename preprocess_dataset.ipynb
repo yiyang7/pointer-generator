{
 "cells": [
  {
   "cell_type": "code",
   "execution_count": 2,
   "metadata": {},
   "outputs": [],
   "source": [
    "import jsonlines\n",
    "import os\n",
    "import numpy as np"
   ]
  },
  {
   "cell_type": "code",
   "execution_count": 3,
   "metadata": {},
   "outputs": [],
   "source": [
    "# choose a subreddit\n",
    "input_subreddit = \"AskReddit\""
   ]
  },
  {
   "cell_type": "code",
   "execution_count": 4,
   "metadata": {},
   "outputs": [],
   "source": [
    "# read json dataset\n",
    "path = \"/home/ubuntu/cs224u/reddit_dataset/\" + \"tldr-training-data.jsonl\"\n",
    "reader = jsonlines.open(path)\n",
    "# get current directory\n",
    "cwd = os.getcwd()\n",
    "# create the directory to the corresponding\n",
    "make_dir = cwd + '/'+input_subreddit+'_story'\n",
    "os.mkdir(make_dir)"
   ]
  },
  {
   "cell_type": "code",
   "execution_count": 5,
   "metadata": {},
   "outputs": [],
   "source": [
    "# create a .story file and save it to the directory save_dir:\n",
    "def create_story_file(input_dict, save_dir):\n",
    "    '''\n",
    "    input:\n",
    "    input_dict: input dictionary, include information about its id, content, summary etc\n",
    "    save_dir: a directory about where to save the story files\n",
    "    '''\n",
    "    dic_id = input_dict[\"id\"]\n",
    "    filename = os.path.join(save_dir, dic_id + \".story\")\n",
    "    file1 = open(filename,\"w\")\n",
    "    file1.writelines(input_dict[\"content\"]+'\\n')\n",
    "    file1.writelines('@hightlight \\n')\n",
    "    file1.writelines(input_dict['summary'])\n",
    "    file1.close()\n",
    "    "
   ]
  },
  {
   "cell_type": "code",
   "execution_count": 6,
   "metadata": {},
   "outputs": [],
   "source": [
    "def isEnglish(s):\n",
    "    try:\n",
    "        s.encode(encoding='utf-8').decode('ascii')\n",
    "    except UnicodeDecodeError:\n",
    "        return False\n",
    "    else:\n",
    "        return True"
   ]
  },
  {
   "cell_type": "code",
   "execution_count": 8,
   "metadata": {},
   "outputs": [],
   "source": [
    "# get a corresponding dataset\n",
    "for dic in reader:\n",
    "    if(\"subreddit\" in dic.keys() and dic[\"subreddit\"] == input_subreddit and isEnglish(dic[\"summary\"]) == True and  isEnglish(dic[\"content\"]) == True ):\n",
    "        create_story_file(dic, make_dir)"
   ]
  },
  {
   "cell_type": "code",
   "execution_count": null,
   "metadata": {},
   "outputs": [],
   "source": []
  }
 ],
 "metadata": {
  "kernelspec": {
   "display_name": "nlu",
   "language": "python",
   "name": "nlu"
  },
  "language_info": {
   "codemirror_mode": {
    "name": "ipython",
    "version": 2
   },
   "file_extension": ".py",
   "mimetype": "text/x-python",
   "name": "python",
   "nbconvert_exporter": "python",
   "pygments_lexer": "ipython2",
   "version": "2.7.16"
  }
 },
 "nbformat": 4,
 "nbformat_minor": 2
}
